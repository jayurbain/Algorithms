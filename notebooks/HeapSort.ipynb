{
 "cells": [
  {
   "cell_type": "markdown",
   "metadata": {},
   "source": [
    "### Heap Sort"
   ]
  },
  {
   "cell_type": "markdown",
   "metadata": {
    "collapsed": true
   },
   "source": [
    "Algorithms\n",
    "\n",
    "Jay Urbain, PhD"
   ]
  },
  {
   "cell_type": "markdown",
   "metadata": {},
   "source": [
    "The *heapsort algorithm* involves preparing the list by first turning it into a *max heap*. The algorithm then repeatedly swaps the first value of the list with the last value, decreasing the range of values considered in the heap operation by one, and sifting the new first value into its position in the heap. This repeats until the range of considered values is one value in length.\n",
    "\n",
    "The steps are:\n",
    "\n",
    "1) Call the heapify() function on the list. Also referred to as buildMaxHeap(). This builds a heap from a list in $O(n)$ operations.\n",
    "\n",
    "2) Swap the first element of the list with the final element. Decrease the considered range of the list by one.\n",
    "Sift the new first element to its appropriate index in the heap.\n",
    "\n",
    "Go to step (2) unless the considered range of the list is one element.\n",
    "\n",
    "The heapify() operation is run once, and is $O(n)$ in performance. The sifting operation is $O(log(n))$, and is called $n$ times. Therefore, the performance of this algorithm is $O(n + n * log(n))$ which evaluates to $O(n log n)$."
   ]
  },
  {
   "cell_type": "code",
   "execution_count": 4,
   "metadata": {},
   "outputs": [
    {
     "name": "stdout",
     "output_type": "stream",
     "text": [
      "[2, 7, 1, -2, 56, 5, 3]\n",
      "max heap: [56, 7, 5, -2, 2, 1, 3]\n",
      "[-2, 1, 2, 3, 5, 7, 56]\n"
     ]
    }
   ],
   "source": [
    "# recursive version, close to Corment, et al.\n",
    "\n",
    "import math\n",
    "\n",
    "def left_child(i):\n",
    "    return 2 * i + 1\n",
    "\n",
    "def right_child(i):\n",
    "    return 2 * i + 2\n",
    "\n",
    "def parent(i):\n",
    "    math.floor(i)\n",
    "    \n",
    "def swap(i, j):                    \n",
    "    A[i], A[j] = A[j], A[i] \n",
    "\n",
    "def heapify(end,i):   \n",
    "    l=left_child(i)  \n",
    "    r=right_child(i)   \n",
    "    max=i   \n",
    "    if l < end and A[i] < A[l]:   \n",
    "        max = l   \n",
    "    if r < end and A[max] < A[r]:   \n",
    "        max = r   \n",
    "    if max != i:   \n",
    "        swap(i, max)   \n",
    "        heapify(end, max)   \n",
    "\n",
    "def heap_sort():     \n",
    "    end = len(A)   \n",
    "    start = end // 2 - 1 # use // instead of /\n",
    "    # create max heap\n",
    "    for i in range(start, -1, -1):   \n",
    "        heapify(end, i)   \n",
    "    print('max heap:', A)\n",
    "    \n",
    "    # create sorted list from maxheap\n",
    "    for i in range(end-1, 0, -1):   \n",
    "        swap(i, 0)   \n",
    "        heapify(i, 0)   \n",
    "\n",
    "A = [2, 7, 1, -2, 56, 5, 3]\n",
    "print(A)\n",
    "heap_sort()\n",
    "print(A)"
   ]
  },
  {
   "cell_type": "code",
   "execution_count": 10,
   "metadata": {},
   "outputs": [
    {
     "name": "stdout",
     "output_type": "stream",
     "text": [
      "[2, 7, 1, -2, 56, 5, 3]\n",
      "[-2, 1, 2, 3, 5, 7, 56]\n"
     ]
    }
   ],
   "source": [
    "# iterative version\n",
    "\n",
    "from random import shuffle\n",
    "import math\n",
    "\n",
    "def heapSort(a):  \n",
    "    \n",
    "    def sift(start, count):  \n",
    "        root = start  \n",
    "  \n",
    "        while root * 2 + 1 < count:  \n",
    "            child = root * 2 + 1  \n",
    "            if child < count - 1 and a[child] < a[child + 1]:  \n",
    "                child += 1  \n",
    "            if a[root] < a[child]:  \n",
    "                a[root], a[child] = a[child], a[root]  \n",
    "                root = child  \n",
    "            else:  \n",
    "                return  \n",
    "  \n",
    "    count = len(a)  \n",
    "    start = count // 2 - 1  \n",
    "    end = count - 1  \n",
    "  \n",
    "    while start >= 0:  \n",
    "        sift(start, count)  \n",
    "        start -= 1  \n",
    "  \n",
    "    while end > 0:  \n",
    "        a[end], a[0] = a[0], a[end]  \n",
    "        sift(0, end)  \n",
    "        end -= 1  \n",
    "  \n",
    "A = [2, 7, 1, -2, 56, 5, 3] \n",
    "print (A)\n",
    "heapSort(A)  \n",
    "print (A)"
   ]
  },
  {
   "cell_type": "code",
   "execution_count": 9,
   "metadata": {},
   "outputs": [
    {
     "name": "stdout",
     "output_type": "stream",
     "text": [
      "[[0], [1], [2], [3], [4], [5], [6], [7], [8], [9], [10], [11], [12], [13], [14], [15], [16], [17], [18], [19]]\n",
      "max heap: [[19], [18], [14], [17], [10], [12], [13], [16], [8], [9], [1], [11], [5], [2], [6], [15], [7], [3], [0], [4]]\n",
      "None\n",
      "[[0], [1], [2], [3], [4], [5], [6], [7], [8], [9], [10], [11], [12], [13], [14], [15], [16], [17], [18], [19]]\n",
      "------------------------------------------------------\n",
      "[[19], [18], [17], [16], [15], [14], [13], [12], [11], [10], [9], [8], [7], [6], [5], [4], [3], [2], [1], [0]]\n",
      "max heap: [[19], [18], [17], [16], [15], [14], [13], [12], [11], [10], [9], [8], [7], [6], [5], [4], [3], [2], [1], [0]]\n",
      "None\n",
      "[[0], [1], [2], [3], [4], [5], [6], [7], [8], [9], [10], [11], [12], [13], [14], [15], [16], [17], [18], [19]]\n",
      "------------------------------------------------------\n",
      "[[10], [16], [17], [12], [9], [8], [13], [3], [7], [15], [5], [18], [11], [0], [1], [2], [4], [6], [19], [14]]\n",
      "max heap: [[19], [16], [18], [12], [15], [17], [13], [4], [10], [14], [5], [8], [11], [0], [1], [2], [3], [6], [7], [9]]\n",
      "None\n",
      "[[0], [1], [2], [3], [4], [5], [6], [7], [8], [9], [10], [11], [12], [13], [14], [15], [16], [17], [18], [19]]\n"
     ]
    }
   ],
   "source": [
    "A = [[i] for i in range(20)]\n",
    "print (A)\n",
    "print (heap_sort())\n",
    "print (A)\n",
    "print ('------------------------------------------------------')\n",
    "\n",
    "A.sort(reverse=True)\n",
    "print (A)\n",
    "print (heap_sort())\n",
    "print (A)\n",
    "\n",
    "print ('------------------------------------------------------')\n",
    "\n",
    "from random import shuffle\n",
    "shuffle(A)\n",
    "print (A)\n",
    "print (heap_sort())\n",
    "print (A)"
   ]
  },
  {
   "cell_type": "code",
   "execution_count": null,
   "metadata": {
    "collapsed": true
   },
   "outputs": [],
   "source": []
  }
 ],
 "metadata": {
  "kernelspec": {
   "display_name": "pytorch",
   "language": "python",
   "name": "pytorch"
  },
  "language_info": {
   "codemirror_mode": {
    "name": "ipython",
    "version": 3
   },
   "file_extension": ".py",
   "mimetype": "text/x-python",
   "name": "python",
   "nbconvert_exporter": "python",
   "pygments_lexer": "ipython3",
   "version": "3.9.18"
  }
 },
 "nbformat": 4,
 "nbformat_minor": 1
}
