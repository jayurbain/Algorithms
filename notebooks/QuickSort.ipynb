{
 "cells": [
  {
   "cell_type": "code",
   "execution_count": 7,
   "metadata": {},
   "outputs": [
    {
     "name": "stdout",
     "output_type": "stream",
     "text": [
      "pivot [19] left [[0], [1], [2], [3], [4], [5], [6], [7], [8], [9], [10], [11], [12], [13], [14], [15], [16], [17], [18]] right []\n",
      "pivot [18] left [[0], [1], [2], [3], [4], [5], [6], [7], [8], [9], [10], [11], [12], [13], [14], [15], [16], [17]] right []\n",
      "pivot [17] left [[0], [1], [2], [3], [4], [5], [6], [7], [8], [9], [10], [11], [12], [13], [14], [15], [16]] right []\n",
      "pivot [16] left [[0], [1], [2], [3], [4], [5], [6], [7], [8], [9], [10], [11], [12], [13], [14], [15]] right []\n",
      "pivot [15] left [[0], [1], [2], [3], [4], [5], [6], [7], [8], [9], [10], [11], [12], [13], [14]] right []\n",
      "pivot [14] left [[0], [1], [2], [3], [4], [5], [6], [7], [8], [9], [10], [11], [12], [13]] right []\n",
      "pivot [13] left [[0], [1], [2], [3], [4], [5], [6], [7], [8], [9], [10], [11], [12]] right []\n",
      "pivot [12] left [[0], [1], [2], [3], [4], [5], [6], [7], [8], [9], [10], [11]] right []\n",
      "pivot [11] left [[0], [1], [2], [3], [4], [5], [6], [7], [8], [9], [10]] right []\n",
      "pivot [10] left [[0], [1], [2], [3], [4], [5], [6], [7], [8], [9]] right []\n",
      "pivot [9] left [[0], [1], [2], [3], [4], [5], [6], [7], [8]] right []\n",
      "pivot [8] left [[0], [1], [2], [3], [4], [5], [6], [7]] right []\n",
      "pivot [7] left [[0], [1], [2], [3], [4], [5], [6]] right []\n",
      "pivot [6] left [[0], [1], [2], [3], [4], [5]] right []\n",
      "pivot [5] left [[0], [1], [2], [3], [4]] right []\n",
      "pivot [4] left [[0], [1], [2], [3]] right []\n",
      "pivot [3] left [[0], [1], [2]] right []\n",
      "pivot [2] left [[0], [1]] right []\n",
      "pivot [1] left [[0]] right []\n",
      "[[0], [1], [2], [3], [4], [5], [6], [7], [8], [9], [10], [11], [12], [13], [14], [15], [16], [17], [18], [19]]\n",
      "------------------------------------------------------\n",
      "[[19], [18], [17], [16], [15], [14], [13], [12], [11], [10], [9], [8], [7], [6], [5], [4], [3], [2], [1], [0]]\n",
      "pivot [0] left [] right [[19], [18], [17], [16], [15], [14], [13], [12], [11], [10], [9], [8], [7], [6], [5], [4], [3], [2], [1]]\n",
      "pivot [1] left [] right [[19], [18], [17], [16], [15], [14], [13], [12], [11], [10], [9], [8], [7], [6], [5], [4], [3], [2]]\n",
      "pivot [2] left [] right [[19], [18], [17], [16], [15], [14], [13], [12], [11], [10], [9], [8], [7], [6], [5], [4], [3]]\n",
      "pivot [3] left [] right [[19], [18], [17], [16], [15], [14], [13], [12], [11], [10], [9], [8], [7], [6], [5], [4]]\n",
      "pivot [4] left [] right [[19], [18], [17], [16], [15], [14], [13], [12], [11], [10], [9], [8], [7], [6], [5]]\n",
      "pivot [5] left [] right [[19], [18], [17], [16], [15], [14], [13], [12], [11], [10], [9], [8], [7], [6]]\n",
      "pivot [6] left [] right [[19], [18], [17], [16], [15], [14], [13], [12], [11], [10], [9], [8], [7]]\n",
      "pivot [7] left [] right [[19], [18], [17], [16], [15], [14], [13], [12], [11], [10], [9], [8]]\n",
      "pivot [8] left [] right [[19], [18], [17], [16], [15], [14], [13], [12], [11], [10], [9]]\n",
      "pivot [9] left [] right [[19], [18], [17], [16], [15], [14], [13], [12], [11], [10]]\n",
      "pivot [10] left [] right [[19], [18], [17], [16], [15], [14], [13], [12], [11]]\n",
      "pivot [11] left [] right [[19], [18], [17], [16], [15], [14], [13], [12]]\n",
      "pivot [12] left [] right [[19], [18], [17], [16], [15], [14], [13]]\n",
      "pivot [13] left [] right [[19], [18], [17], [16], [15], [14]]\n",
      "pivot [14] left [] right [[19], [18], [17], [16], [15]]\n",
      "pivot [15] left [] right [[19], [18], [17], [16]]\n",
      "pivot [16] left [] right [[19], [18], [17]]\n",
      "pivot [17] left [] right [[19], [18]]\n",
      "pivot [18] left [] right [[19]]\n",
      "[[0], [1], [2], [3], [4], [5], [6], [7], [8], [9], [10], [11], [12], [13], [14], [15], [16], [17], [18], [19]]\n",
      "------------------------------------------------------\n",
      "pivot [7] left [[5], [6], [4], [2], [1], [3], [0]] right [[10], [11], [14], [12], [15], [9], [16], [8], [18], [13], [19], [17]]\n",
      "pivot [0] left [] right [[5], [6], [4], [2], [1], [3]]\n",
      "pivot [3] left [[2], [1]] right [[5], [6], [4]]\n",
      "pivot [1] left [] right [[2]]\n",
      "pivot [4] left [] right [[5], [6]]\n",
      "pivot [6] left [[5]] right []\n",
      "pivot [17] left [[10], [11], [14], [12], [15], [9], [16], [8], [13]] right [[18], [19]]\n",
      "pivot [13] left [[10], [11], [12], [9], [8]] right [[14], [15], [16]]\n",
      "pivot [8] left [] right [[10], [11], [12], [9]]\n",
      "pivot [9] left [] right [[10], [11], [12]]\n",
      "pivot [12] left [[10], [11]] right []\n",
      "pivot [11] left [[10]] right []\n",
      "pivot [16] left [[14], [15]] right []\n",
      "pivot [15] left [[14]] right []\n",
      "pivot [19] left [[18]] right []\n",
      "[[0], [1], [2], [3], [4], [5], [6], [7], [8], [9], [10], [11], [12], [13], [14], [15], [16], [17], [18], [19]]\n"
     ]
    }
   ],
   "source": [
    "def quicksort(arr):\n",
    "    if len(arr) <= 1:\n",
    "        return arr\n",
    "    #pivot = arr[len(arr) / 2]\n",
    "    pivot = arr[len(arr)-1]\n",
    "    left = [x for x in arr if x < pivot]\n",
    "    middle = [x for x in arr if x == pivot]\n",
    "    right = [x for x in arr if x > pivot]\n",
    "    print('pivot', pivot, 'left', left, 'right', right)\n",
    "    return quicksort(left) + middle + quicksort(right)\n",
    "\n",
    "x = [[i] for i in range(20)]\n",
    "print( quicksort(x) )\n",
    "\n",
    "print('------------------------------------------------------')\n",
    "\n",
    "x.sort(reverse=True)\n",
    "print(x)\n",
    "print( quicksort(x) )\n",
    "\n",
    "print('------------------------------------------------------')\n",
    "\n",
    "from random import shuffle\n",
    "shuffle(x)\n",
    "print( quicksort(x) )"
   ]
  },
  {
   "cell_type": "code",
   "execution_count": null,
   "metadata": {
    "collapsed": true
   },
   "outputs": [],
   "source": []
  },
  {
   "cell_type": "code",
   "execution_count": null,
   "metadata": {
    "collapsed": true
   },
   "outputs": [],
   "source": []
  },
  {
   "cell_type": "code",
   "execution_count": null,
   "metadata": {
    "collapsed": true
   },
   "outputs": [],
   "source": []
  },
  {
   "cell_type": "code",
   "execution_count": null,
   "metadata": {
    "collapsed": true
   },
   "outputs": [],
   "source": []
  },
  {
   "cell_type": "code",
   "execution_count": null,
   "metadata": {
    "collapsed": true
   },
   "outputs": [],
   "source": []
  },
  {
   "cell_type": "code",
   "execution_count": null,
   "metadata": {
    "collapsed": true
   },
   "outputs": [],
   "source": []
  }
 ],
 "metadata": {
  "kernelspec": {
   "display_name": "pytorch",
   "language": "python",
   "name": "pytorch"
  },
  "language_info": {
   "codemirror_mode": {
    "name": "ipython",
    "version": 3
   },
   "file_extension": ".py",
   "mimetype": "text/x-python",
   "name": "python",
   "nbconvert_exporter": "python",
   "pygments_lexer": "ipython3",
   "version": "3.9.18"
  }
 },
 "nbformat": 4,
 "nbformat_minor": 1
}
